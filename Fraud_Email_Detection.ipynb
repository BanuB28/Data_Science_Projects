{
 "cells": [
  {
   "cell_type": "code",
   "execution_count": 56,
   "id": "c0502d7a-51db-4fde-b1b4-af8421e5f9ae",
   "metadata": {},
   "outputs": [
    {
     "name": "stderr",
     "output_type": "stream",
     "text": [
      "[nltk_data] Downloading package stopwords to\n",
      "[nltk_data]     C:\\Users\\Banu\\AppData\\Roaming\\nltk_data...\n",
      "[nltk_data]   Package stopwords is already up-to-date!\n"
     ]
    }
   ],
   "source": [
    "import numpy as np\n",
    "import pandas as pd\n",
    "import re\n",
    "import nltk\n",
    "from nltk.corpus import stopwords\n",
    "from sklearn.feature_extraction.text import TfidfVectorizer\n",
    "from sklearn.model_selection import train_test_split, cross_val_score, GridSearchCV\n",
    "from sklearn.linear_model import LogisticRegression\n",
    "from sklearn.feature_selection import SelectKBest, chi2\n",
    "from sklearn.ensemble import RandomForestClassifier\n",
    "from imblearn.over_sampling import SMOTE\n",
    "from sklearn.metrics import accuracy_score, classification_report\n",
    "\n",
    "# Download stopwords\n",
    "nltk.download('stopwords')\n",
    "stop_words = set(stopwords.words('english'))"
   ]
  },
  {
   "cell_type": "code",
   "execution_count": 58,
   "id": "9ae60c4c-b8b5-49b4-b01b-d585a5c72e72",
   "metadata": {},
   "outputs": [],
   "source": [
    "data = pd.read_csv('fraud_email_.csv')\n",
    "texts = data['Text']\n",
    "labels = data['Class'] "
   ]
  },
  {
   "cell_type": "code",
   "execution_count": 60,
   "id": "eda1d706-121c-4345-bfbd-b33fc264b951",
   "metadata": {},
   "outputs": [],
   "source": [
    "# Updated Text Preprocessing Function to handle non-string inputs\n",
    "def preprocess(text):\n",
    "    if isinstance(text, str):\n",
    "        # Lowercasing, removing non-alphabetic chars, and tokenizing\n",
    "        text = text.lower()\n",
    "        text = re.sub(r'\\W', ' ', text)\n",
    "        text = re.sub(r'\\s+', ' ', text)\n",
    "        return text.split()\n",
    "    else:\n",
    "        return []  # Return an empty list for non-string inputs\n",
    "\n",
    "# Apply preprocessing and remove stopwords\n",
    "preprocessed_texts = texts.apply(lambda x: [word for word in preprocess(x) if word not in stop_words])\n",
    "\n",
    "# Join the tokens back into text\n",
    "processed_texts = preprocessed_texts.apply(lambda x: ' '.join(x))"
   ]
  },
  {
   "cell_type": "code",
   "execution_count": 62,
   "id": "3646f9fc-dbb0-4b4f-af0b-07a51e6ac34d",
   "metadata": {},
   "outputs": [
    {
     "data": {
      "text/plain": [
       "0        supply quality china exclusive dimensions unbe...\n",
       "1                                          sidlet know thx\n",
       "2        dear friend greetings wish accost request woul...\n",
       "3        mr cheung puihang seng bank ltd des voeux rd b...\n",
       "4                            surprising assessment embassy\n",
       "                               ...                        \n",
       "11924              travel well look forward hearing report\n",
       "11925    dear friend wish begin way introduction willia...\n",
       "11926    follow flag follow upflag status flaggedmore info\n",
       "11927    sbwhoeop b6saturday january 23 2010 4 09 pmre ...\n",
       "11928    fyi revising call sheet call karzai potentiall...\n",
       "Name: Text, Length: 11929, dtype: object"
      ]
     },
     "execution_count": 62,
     "metadata": {},
     "output_type": "execute_result"
    }
   ],
   "source": [
    "processed_texts"
   ]
  },
  {
   "cell_type": "code",
   "execution_count": 64,
   "id": "87e7b8e6-099d-41a1-b010-b1d9ba27c999",
   "metadata": {},
   "outputs": [],
   "source": [
    "vectorizer = TfidfVectorizer(max_df=0.7, min_df=5, ngram_range=(1, 2), max_features=10000)  # Adjust n-grams and features\n",
    "X = vectorizer.fit_transform(processed_texts)"
   ]
  },
  {
   "cell_type": "code",
   "execution_count": 65,
   "id": "6c7eda0b-4aba-4ed3-ba03-39bba811635e",
   "metadata": {},
   "outputs": [
    {
     "data": {
      "text/plain": [
       "<11929x10000 sparse matrix of type '<class 'numpy.float64'>'\n",
       "\twith 1098395 stored elements in Compressed Sparse Row format>"
      ]
     },
     "execution_count": 65,
     "metadata": {},
     "output_type": "execute_result"
    }
   ],
   "source": [
    "X"
   ]
  },
  {
   "cell_type": "code",
   "execution_count": 68,
   "id": "7950fc3e-9b84-46a7-81b1-4ce7b744cb72",
   "metadata": {},
   "outputs": [],
   "source": [
    "# Feature Selection using Chi-Square\n",
    "selector = SelectKBest(chi2, k=5000)  # Select top 5000 features\n",
    "X_selected = selector.fit_transform(X, labels)"
   ]
  },
  {
   "cell_type": "code",
   "execution_count": 70,
   "id": "9d548b22-98ee-4e90-8dc1-19c6d00282d0",
   "metadata": {},
   "outputs": [
    {
     "data": {
      "text/plain": [
       "<11929x5000 sparse matrix of type '<class 'numpy.float64'>'\n",
       "\twith 807235 stored elements in Compressed Sparse Row format>"
      ]
     },
     "execution_count": 70,
     "metadata": {},
     "output_type": "execute_result"
    }
   ],
   "source": [
    "X_selected"
   ]
  },
  {
   "cell_type": "code",
   "execution_count": 72,
   "id": "44e40631-5700-406c-aaa6-7da02298ecae",
   "metadata": {},
   "outputs": [],
   "source": [
    "smote = SMOTE()\n",
    "X_resampled, y_resampled = smote.fit_resample(X_selected, labels)"
   ]
  },
  {
   "cell_type": "code",
   "execution_count": 74,
   "id": "8199be0c-18d9-41b7-8634-68d753113603",
   "metadata": {},
   "outputs": [
    {
     "data": {
      "text/plain": [
       "<13484x5000 sparse matrix of type '<class 'numpy.float64'>'\n",
       "\twith 1111905 stored elements in Compressed Sparse Row format>"
      ]
     },
     "execution_count": 74,
     "metadata": {},
     "output_type": "execute_result"
    }
   ],
   "source": [
    "X_resampled"
   ]
  },
  {
   "cell_type": "code",
   "execution_count": 76,
   "id": "cb4021fd-a56a-400b-bc6e-dbdb31e52f2a",
   "metadata": {},
   "outputs": [
    {
     "data": {
      "text/plain": [
       "0        1\n",
       "1        0\n",
       "2        1\n",
       "3        1\n",
       "4        0\n",
       "        ..\n",
       "13479    1\n",
       "13480    1\n",
       "13481    1\n",
       "13482    1\n",
       "13483    1\n",
       "Name: Class, Length: 13484, dtype: int64"
      ]
     },
     "execution_count": 76,
     "metadata": {},
     "output_type": "execute_result"
    }
   ],
   "source": [
    "y_resampled"
   ]
  },
  {
   "cell_type": "code",
   "execution_count": 78,
   "id": "84b2c256-bbf5-4739-9690-1ea85565be8e",
   "metadata": {},
   "outputs": [],
   "source": [
    "# Train/Test split\n",
    "X_train, X_test, y_train, y_test = train_test_split(X_resampled, y_resampled, test_size=0.2, random_state=42)"
   ]
  },
  {
   "cell_type": "code",
   "execution_count": 80,
   "id": "e1931a11-0cf6-4d2e-b119-4f753559c3bd",
   "metadata": {},
   "outputs": [],
   "source": [
    "# Logistic Regression Classifier with regularization\n",
    "classifier = LogisticRegression(max_iter=1000, class_weight='balanced')"
   ]
  },
  {
   "cell_type": "code",
   "execution_count": 82,
   "id": "8f9b5b39-0011-4a17-a21b-3c149ad8a3fa",
   "metadata": {},
   "outputs": [
    {
     "name": "stdout",
     "output_type": "stream",
     "text": [
      "Fitting 5 folds for each of 8 candidates, totalling 40 fits\n",
      "Best Parameters: {'C': 100, 'penalty': 'l2', 'solver': 'lbfgs'}\n"
     ]
    }
   ],
   "source": [
    "# Hyperparameter Tuning using GridSearchCV\n",
    "param_grid = {\n",
    "    'C': [0.1, 1, 10, 100],  # Regularization strength\n",
    "    'penalty': ['l2'],  # L2 regularization\n",
    "    'solver': ['lbfgs', 'liblinear']\n",
    "}\n",
    "\n",
    "grid_search = GridSearchCV(classifier, param_grid, cv=5, scoring='accuracy', verbose=1, n_jobs=-1)\n",
    "grid_search.fit(X_train, y_train)\n",
    "\n",
    "# Best hyperparameters\n",
    "best_params = grid_search.best_params_\n",
    "print(f\"Best Parameters: {best_params}\")"
   ]
  },
  {
   "cell_type": "code",
   "execution_count": 84,
   "id": "67d88b3d-9ab8-482c-83ff-8fd653d3ead3",
   "metadata": {},
   "outputs": [],
   "source": [
    "# Train the optimized model with the best parameters\n",
    "best_classifier = grid_search.best_estimator_\n",
    "\n",
    "# Evaluate the model\n",
    "y_pred = best_classifier.predict(X_test)"
   ]
  },
  {
   "cell_type": "code",
   "execution_count": 86,
   "id": "318fc9b0-745e-466b-8d72-5697bc91fc1c",
   "metadata": {},
   "outputs": [
    {
     "name": "stdout",
     "output_type": "stream",
     "text": [
      "Accuracy: 0.9862810530218762\n",
      "              precision    recall  f1-score   support\n",
      "\n",
      "           0       0.98      0.99      0.99      1338\n",
      "           1       0.99      0.98      0.99      1359\n",
      "\n",
      "    accuracy                           0.99      2697\n",
      "   macro avg       0.99      0.99      0.99      2697\n",
      "weighted avg       0.99      0.99      0.99      2697\n",
      "\n"
     ]
    }
   ],
   "source": [
    "# Accuracy\n",
    "accuracy = accuracy_score(y_test, y_pred)\n",
    "print(f\"Accuracy: {accuracy}\")\n",
    "\n",
    "# Classification report\n",
    "print(classification_report(y_test, y_pred))"
   ]
  },
  {
   "cell_type": "code",
   "execution_count": 88,
   "id": "6b6808e6-493f-4924-8043-134fec612b03",
   "metadata": {},
   "outputs": [
    {
     "name": "stdout",
     "output_type": "stream",
     "text": [
      "Cross-Validation Scores: [0.98924731 0.98850575 0.98961809 0.98331479 0.96179525]\n",
      "Mean Cross-Validation Accuracy: 0.982496239914885\n"
     ]
    }
   ],
   "source": [
    "# Cross-validation score to ensure robustness\n",
    "cross_val_scores = cross_val_score(best_classifier, X_resampled, y_resampled, cv=5)\n",
    "print(f\"Cross-Validation Scores: {cross_val_scores}\")\n",
    "print(f\"Mean Cross-Validation Accuracy: {np.mean(cross_val_scores)}\")"
   ]
  },
  {
   "cell_type": "code",
   "execution_count": 90,
   "id": "3e4ff0cf-cb7f-4be8-84f4-ac80d6e4d6aa",
   "metadata": {},
   "outputs": [],
   "source": [
    "# Function to predict fraud likelihood on custom input text\n",
    "def predict_fraud(text, model, vectorizer, selector):\n",
    "    # Preprocess the input text\n",
    "    preprocessed_text = ' '.join([word for word in preprocess(text) if word not in stop_words])\n",
    "    \n",
    "    # Vectorize the input text\n",
    "    X_input = vectorizer.transform([preprocessed_text])\n",
    "    \n",
    "    # Select important features\n",
    "    X_input_selected = selector.transform(X_input)\n",
    "    \n",
    "    # Predict fraud likelihood (probability)\n",
    "    fraud_proba = model.predict_proba(X_input_selected)[0][1]  # Probability for fraud class (1)\n",
    "    \n",
    "    # Return fraud likelihood as percentage\n",
    "    return fraud_proba * 100"
   ]
  },
  {
   "cell_type": "code",
   "execution_count": 92,
   "id": "e746404e-460d-4a1e-9aa7-9ebcc1afdda7",
   "metadata": {},
   "outputs": [],
   "source": [
    "input_text = \"\"\"I hope you are well when you get this email. My name is [Name], and I'm the son of the late [Famous Person]. I need your help with a secret problem right away.\n",
    "I received $30,000,000 (Thirty Million US Dollars), but I can't get to it because of political unrest. I've been told to find a trustworthy foreign partner who can help me move the money.\n",
    "I'm willing to pay you 40% of the total amount for your help, but I need your bank information to move forward.\n",
    "Please answer quickly, because time is running out.\n",
    "All the best,\n",
    "This case shows that Nigerian email scams often involve a sense of urgency, a lot of money, problems with the government or the law, and a request for personal information.\n",
    "If you get an email like this, do not reply or give out any personal information. Instead, tell your email service or the right people in your country about it.\n",
    "If you want to learn more about online security and how to keep yourself safe from scams, there are many ways to do so.\n",
    "Be careful online.\n",
    "Advit Sahdev\"\"\""
   ]
  },
  {
   "cell_type": "code",
   "execution_count": 94,
   "id": "94a2cf22-7b37-418d-a730-77b8b14c029e",
   "metadata": {},
   "outputs": [
    {
     "name": "stdout",
     "output_type": "stream",
     "text": [
      "Fraud Likelihood: 99.59%\n"
     ]
    }
   ],
   "source": [
    "fraud_likelihood = predict_fraud(input_text, best_classifier, vectorizer, selector)\n",
    "print(f\"Fraud Likelihood: {fraud_likelihood:.2f}%\")"
   ]
  },
  {
   "cell_type": "code",
   "execution_count": null,
   "id": "c9762ade-ad48-45e9-8cc6-c74fcdba7741",
   "metadata": {},
   "outputs": [],
   "source": []
  }
 ],
 "metadata": {
  "kernelspec": {
   "display_name": "Python 3 (ipykernel)",
   "language": "python",
   "name": "python3"
  },
  "language_info": {
   "codemirror_mode": {
    "name": "ipython",
    "version": 3
   },
   "file_extension": ".py",
   "mimetype": "text/x-python",
   "name": "python",
   "nbconvert_exporter": "python",
   "pygments_lexer": "ipython3",
   "version": "3.12.7"
  }
 },
 "nbformat": 4,
 "nbformat_minor": 5
}
